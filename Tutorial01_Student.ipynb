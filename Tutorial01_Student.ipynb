{
 "cells": [
  {
   "cell_type": "markdown",
   "id": "30fdf8fa",
   "metadata": {
    "slideshow": {
     "slide_type": "-"
    }
   },
   "source": [
    "# Tutorial 1:  Linear Regression\n",
    "\n",
    " ### 1. Software\n",
    "   - Following the instructions in the section \"Installation\" (just after \"Preface\") of the book \"Dive Into Deep Learning\" (https://d2l.ai/), install Miniconda and the d2l package with PyTorch, or\n",
    "   - Use Google Colab https://colab.research.google.com/\n",
    "   - You can use the codes in Chapter 3 of the book.\n",
    " \n",
    " "
   ]
  },
  {
   "cell_type": "markdown",
   "id": "bbe0ca5b",
   "metadata": {
    "slideshow": {
     "slide_type": "slide"
    }
   },
   "source": [
    "### 2. Implement the ridge regression algorithm from scratch and test the performance of the algorithm with synthetic data.\n",
    "\n",
    "   - Loss function\n",
    "$$L(\\mathbf{w}, b) =\\frac{1}{n} \\sum_{i=1}^n \\frac{1}{2}\\left(\\mathbf{w}^\\top \\mathbf{x}^{(i)} + b - y^{(i)}\\right)^2 + \\lambda \\mathbf{w}^\\top\\mathbf{w}.$$\n",
    "  - $\\lambda$: regularisation number, a hyperparameter specified by users. Try different values such as $0.01,0.02,0.05,0.1,0.2,0,5,1,2,5,\\cdots$ and check how regularisation numbers affect the performance of ridge regression.\n",
    "  -  Similar to the generation of the synthethic data in Section 3.2.1 of the book,  generate a set of $n$ ($n=100, 200, 1000$) examples of 100 dimensional data for training and test the accuracy of the estimation on the weights and bias.\n",
    "  - For reproductity, use \"torch.manual_seed(0)\" before generating the true weights and bias. "
   ]
  },
  {
   "cell_type": "markdown",
   "id": "dd5ad2a6",
   "metadata": {
    "slideshow": {
     "slide_type": "slide"
    }
   },
   "source": [
    "### 3. Softmax regression\n",
    "\n",
    "- What are the hyperparameters in the softmax regression algorithms of Chapter 3? \n",
    "- Adjust the hyperparameters and check how performance changes with  each hyperparameter.\n",
    "- How the parameters should be selected?"
   ]
  },
  {
   "cell_type": "code",
   "execution_count": null,
   "id": "f2cf080e",
   "metadata": {},
   "outputs": [],
   "source": []
  }
 ],
 "metadata": {
  "celltoolbar": "Slideshow",
  "kernelspec": {
   "display_name": "Python 3 (ipykernel)",
   "language": "python",
   "name": "python3"
  },
  "language_info": {
   "codemirror_mode": {
    "name": "ipython",
    "version": 3
   },
   "file_extension": ".py",
   "mimetype": "text/x-python",
   "name": "python",
   "nbconvert_exporter": "python",
   "pygments_lexer": "ipython3",
   "version": "3.9.7"
  }
 },
 "nbformat": 4,
 "nbformat_minor": 5
}
